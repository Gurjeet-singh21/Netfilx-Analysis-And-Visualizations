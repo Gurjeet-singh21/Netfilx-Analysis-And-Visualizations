{
 "cells": [
  {
   "cell_type": "markdown",
   "id": "74d4fe8c-bb84-4313-8c33-a4ac3666ae8f",
   "metadata": {},
   "source": [
    "# **Import Needed Libraries**"
   ]
  },
  {
   "cell_type": "code",
   "execution_count": 17,
   "id": "8a7f143b-98c6-450f-aafc-608ccfcd0c3a",
   "metadata": {},
   "outputs": [],
   "source": [
    "import pandas as pd\n",
    "import numpy as np\n",
    "import seaborn as sns\n",
    "import matplotlib.pyplot as plt\n",
    "from wordcloud import WordCloud\n",
    "import plotly.express as px\n"
   ]
  },
  {
   "cell_type": "markdown",
   "id": "39acfb54-e9f1-4654-a5a0-f39068299983",
   "metadata": {},
   "source": [
    "# Read Data and Get Some Information"
   ]
  },
  {
   "cell_type": "code",
   "execution_count": 19,
   "id": "ac3a261c-688d-4132-b7bf-a03ec33e7aff",
   "metadata": {},
   "outputs": [],
   "source": [
    "data = pd.read_csv('c:/Users/singh/Downloads/netflix1.csv')"
   ]
  },
  {
   "cell_type": "code",
   "execution_count": 20,
   "id": "44aa60b7-4167-43a2-84c8-14506ac64709",
   "metadata": {},
   "outputs": [
    {
     "data": {
      "text/html": [
       "<div>\n",
       "<style scoped>\n",
       "    .dataframe tbody tr th:only-of-type {\n",
       "        vertical-align: middle;\n",
       "    }\n",
       "\n",
       "    .dataframe tbody tr th {\n",
       "        vertical-align: top;\n",
       "    }\n",
       "\n",
       "    .dataframe thead th {\n",
       "        text-align: right;\n",
       "    }\n",
       "</style>\n",
       "<table border=\"1\" class=\"dataframe\">\n",
       "  <thead>\n",
       "    <tr style=\"text-align: right;\">\n",
       "      <th></th>\n",
       "      <th>show_id</th>\n",
       "      <th>type</th>\n",
       "      <th>title</th>\n",
       "      <th>director</th>\n",
       "      <th>country</th>\n",
       "      <th>date_added</th>\n",
       "      <th>release_year</th>\n",
       "      <th>rating</th>\n",
       "      <th>duration</th>\n",
       "      <th>listed_in</th>\n",
       "    </tr>\n",
       "  </thead>\n",
       "  <tbody>\n",
       "    <tr>\n",
       "      <th>0</th>\n",
       "      <td>s1</td>\n",
       "      <td>Movie</td>\n",
       "      <td>Dick Johnson Is Dead</td>\n",
       "      <td>Kirsten Johnson</td>\n",
       "      <td>United States</td>\n",
       "      <td>9/25/2021</td>\n",
       "      <td>2020</td>\n",
       "      <td>PG-13</td>\n",
       "      <td>90 min</td>\n",
       "      <td>Documentaries</td>\n",
       "    </tr>\n",
       "    <tr>\n",
       "      <th>1</th>\n",
       "      <td>s3</td>\n",
       "      <td>TV Show</td>\n",
       "      <td>Ganglands</td>\n",
       "      <td>Julien Leclercq</td>\n",
       "      <td>France</td>\n",
       "      <td>9/24/2021</td>\n",
       "      <td>2021</td>\n",
       "      <td>TV-MA</td>\n",
       "      <td>1 Season</td>\n",
       "      <td>Crime TV Shows, International TV Shows, TV Act...</td>\n",
       "    </tr>\n",
       "    <tr>\n",
       "      <th>2</th>\n",
       "      <td>s6</td>\n",
       "      <td>TV Show</td>\n",
       "      <td>Midnight Mass</td>\n",
       "      <td>Mike Flanagan</td>\n",
       "      <td>United States</td>\n",
       "      <td>9/24/2021</td>\n",
       "      <td>2021</td>\n",
       "      <td>TV-MA</td>\n",
       "      <td>1 Season</td>\n",
       "      <td>TV Dramas, TV Horror, TV Mysteries</td>\n",
       "    </tr>\n",
       "    <tr>\n",
       "      <th>3</th>\n",
       "      <td>s14</td>\n",
       "      <td>Movie</td>\n",
       "      <td>Confessions of an Invisible Girl</td>\n",
       "      <td>Bruno Garotti</td>\n",
       "      <td>Brazil</td>\n",
       "      <td>9/22/2021</td>\n",
       "      <td>2021</td>\n",
       "      <td>TV-PG</td>\n",
       "      <td>91 min</td>\n",
       "      <td>Children &amp; Family Movies, Comedies</td>\n",
       "    </tr>\n",
       "    <tr>\n",
       "      <th>4</th>\n",
       "      <td>s8</td>\n",
       "      <td>Movie</td>\n",
       "      <td>Sankofa</td>\n",
       "      <td>Haile Gerima</td>\n",
       "      <td>United States</td>\n",
       "      <td>9/24/2021</td>\n",
       "      <td>1993</td>\n",
       "      <td>TV-MA</td>\n",
       "      <td>125 min</td>\n",
       "      <td>Dramas, Independent Movies, International Movies</td>\n",
       "    </tr>\n",
       "  </tbody>\n",
       "</table>\n",
       "</div>"
      ],
      "text/plain": [
       "  show_id     type                             title         director  \\\n",
       "0      s1    Movie              Dick Johnson Is Dead  Kirsten Johnson   \n",
       "1      s3  TV Show                         Ganglands  Julien Leclercq   \n",
       "2      s6  TV Show                     Midnight Mass    Mike Flanagan   \n",
       "3     s14    Movie  Confessions of an Invisible Girl    Bruno Garotti   \n",
       "4      s8    Movie                           Sankofa     Haile Gerima   \n",
       "\n",
       "         country date_added  release_year rating  duration  \\\n",
       "0  United States  9/25/2021          2020  PG-13    90 min   \n",
       "1         France  9/24/2021          2021  TV-MA  1 Season   \n",
       "2  United States  9/24/2021          2021  TV-MA  1 Season   \n",
       "3         Brazil  9/22/2021          2021  TV-PG    91 min   \n",
       "4  United States  9/24/2021          1993  TV-MA   125 min   \n",
       "\n",
       "                                           listed_in  \n",
       "0                                      Documentaries  \n",
       "1  Crime TV Shows, International TV Shows, TV Act...  \n",
       "2                 TV Dramas, TV Horror, TV Mysteries  \n",
       "3                 Children & Family Movies, Comedies  \n",
       "4   Dramas, Independent Movies, International Movies  "
      ]
     },
     "execution_count": 20,
     "metadata": {},
     "output_type": "execute_result"
    }
   ],
   "source": [
    "data.head()"
   ]
  },
  {
   "cell_type": "code",
   "execution_count": 21,
   "id": "d4bc2cc5-0641-47b8-ae3e-d84a62a48203",
   "metadata": {},
   "outputs": [
    {
     "data": {
      "text/plain": [
       "(8790, 10)"
      ]
     },
     "execution_count": 21,
     "metadata": {},
     "output_type": "execute_result"
    }
   ],
   "source": [
    "data.shape"
   ]
  },
  {
   "cell_type": "code",
   "execution_count": 22,
   "id": "5fb29f79-2abd-429a-ba3b-42f0689964a8",
   "metadata": {},
   "outputs": [
    {
     "data": {
      "text/plain": [
       "Index(['show_id', 'type', 'title', 'director', 'country', 'date_added',\n",
       "       'release_year', 'rating', 'duration', 'listed_in'],\n",
       "      dtype='object')"
      ]
     },
     "execution_count": 22,
     "metadata": {},
     "output_type": "execute_result"
    }
   ],
   "source": [
    "data.columns"
   ]
  },
  {
   "cell_type": "code",
   "execution_count": 23,
   "id": "37d441ce-ef79-4554-88b8-1692a7c33d31",
   "metadata": {},
   "outputs": [
    {
     "name": "stdout",
     "output_type": "stream",
     "text": [
      "<class 'pandas.core.frame.DataFrame'>\n",
      "RangeIndex: 8790 entries, 0 to 8789\n",
      "Data columns (total 10 columns):\n",
      " #   Column        Non-Null Count  Dtype \n",
      "---  ------        --------------  ----- \n",
      " 0   show_id       8790 non-null   object\n",
      " 1   type          8790 non-null   object\n",
      " 2   title         8790 non-null   object\n",
      " 3   director      8790 non-null   object\n",
      " 4   country       8790 non-null   object\n",
      " 5   date_added    8790 non-null   object\n",
      " 6   release_year  8790 non-null   int64 \n",
      " 7   rating        8790 non-null   object\n",
      " 8   duration      8790 non-null   object\n",
      " 9   listed_in     8790 non-null   object\n",
      "dtypes: int64(1), object(9)\n",
      "memory usage: 686.8+ KB\n"
     ]
    }
   ],
   "source": [
    "data.info()\n"
   ]
  },
  {
   "cell_type": "code",
   "execution_count": 24,
   "id": "9883be6e-c681-4154-b8a0-00e67bb8f411",
   "metadata": {},
   "outputs": [
    {
     "data": {
      "text/plain": [
       "show_id         0\n",
       "type            0\n",
       "title           0\n",
       "director        0\n",
       "country         0\n",
       "date_added      0\n",
       "release_year    0\n",
       "rating          0\n",
       "duration        0\n",
       "listed_in       0\n",
       "dtype: int64"
      ]
     },
     "execution_count": 24,
     "metadata": {},
     "output_type": "execute_result"
    }
   ],
   "source": [
    "(data.isnull()).sum()"
   ]
  },
  {
   "cell_type": "code",
   "execution_count": 25,
   "id": "85f619e0-18e9-4495-92bd-38fa28212abf",
   "metadata": {},
   "outputs": [
    {
     "data": {
      "text/plain": [
       "0"
      ]
     },
     "execution_count": 25,
     "metadata": {},
     "output_type": "execute_result"
    }
   ],
   "source": [
    "data.duplicated().sum()"
   ]
  },
  {
   "cell_type": "code",
   "execution_count": 26,
   "id": "dfa73835-f627-4f14-b017-3d92cf124058",
   "metadata": {},
   "outputs": [],
   "source": [
    "data['date_added'] = pd.to_datetime(data['date_added'])"
   ]
  },
  {
   "cell_type": "code",
   "execution_count": 27,
   "id": "b5f2168c-7190-4416-83c8-7599116b6265",
   "metadata": {},
   "outputs": [
    {
     "data": {
      "text/plain": [
       "show_id                 object\n",
       "type                    object\n",
       "title                   object\n",
       "director                object\n",
       "country                 object\n",
       "date_added      datetime64[ns]\n",
       "release_year             int64\n",
       "rating                  object\n",
       "duration                object\n",
       "listed_in               object\n",
       "dtype: object"
      ]
     },
     "execution_count": 27,
     "metadata": {},
     "output_type": "execute_result"
    }
   ],
   "source": [
    "data.dtypes\n"
   ]
  },
  {
   "cell_type": "markdown",
   "id": "856e6d67-cf53-427a-b44f-bf28976b9427",
   "metadata": {},
   "source": [
    "# Exploratory Data Analysis (EDA)\n",
    "  1. Content Type Distribution (Movies vs. TV Shows)"
   ]
  },
  {
   "cell_type": "code",
   "execution_count": 29,
   "id": "8e3c6ff4-3a46-422f-8acf-c7957e2725ff",
   "metadata": {},
   "outputs": [
    {
     "data": {
      "image/png": "[encoded data removed]",
      "text/plain": [
       "<Figure size 800x600 with 1 Axes>"
      ]
     },
     "metadata": {},
     "output_type": "display_data"
    }
   ],
   "source": [
    "# Count the number of Movies and TV Shows\n",
    "\n",
    "type_counts = data['type'].value_counts()\n",
    "plt.figure(figsize=(8,6))\n",
    "sns.barplot(x = type_counts.index, y = type_counts.values, hue=300, legend=False, palette = 'Set2')\n",
    "plt.title('Distribution of Content by Type')\n",
    "plt.xlabel('Type')\n",
    "plt.ylabel('Count')\n",
    "plt.show()"
   ]
  },
  {
   "cell_type": "code",
   "execution_count": 30,
   "id": "8d301995-c86e-4fef-a06c-63da86655040",
   "metadata": {},
   "outputs": [
    {
     "data": {
      "text/plain": [
       " International Movies     2624\n",
       "Dramas                    1599\n",
       "Comedies                  1210\n",
       "Action & Adventure         859\n",
       "Documentaries              829\n",
       " Dramas                    827\n",
       "International TV Shows     773\n",
       " Independent Movies        736\n",
       " TV Dramas                 695\n",
       " Romantic Movies           613\n",
       "Name: count, dtype: int64"
      ]
     },
     "execution_count": 30,
     "metadata": {},
     "output_type": "execute_result"
    }
   ],
   "source": [
    "# Most Common Genres\n",
    "\n",
    "data['genres']=(data['listed_in']).apply(lambda x:x.split(','))\n",
    "all_genres= (data['genres']).sum()\n",
    "genre_counts = pd.Series(all_genres).value_counts().head(10)\n",
    "genre_counts"
   ]
  },
  {
   "cell_type": "code",
   "execution_count": 31,
   "id": "691a6df2-2e60-45c5-919c-2a8c4af87b2c",
   "metadata": {},
   "outputs": [
    {
     "data": {
      "image/png": "[encoded data removed]",
      "text/plain": [
       "<Figure size 1000x600 with 1 Axes>"
      ]
     },
     "metadata": {},
     "output_type": "display_data"
    }
   ],
   "source": [
    "# Plot the most common genres\n",
    "\n",
    "plt.figure(figsize=(10,6))\n",
    "sns.barplot(x = genre_counts.values, y = genre_counts.index)\n",
    "plt.title('Most Common Genres')\n",
    "plt.xlabel('Counts')\n",
    "plt.ylabel('Genres')\n",
    "plt.show()"
   ]
  },
  {
   "cell_type": "markdown",
   "id": "c5ea303e-7785-4a97-8393-e20ff29b6edc",
   "metadata": {},
   "source": [
    "#  Top 10 Directors with the Most Titles"
   ]
  },
  {
   "cell_type": "code",
   "execution_count": 33,
   "id": "a2f6351b-a9b4-42c4-80af-14e625cc7d69",
   "metadata": {},
   "outputs": [
    {
     "ename": "SyntaxError",
     "evalue": "invalid syntax (2564409391.py, line 8)",
     "output_type": "error",
     "traceback": [
      "\u001b[1;36m  Cell \u001b[1;32mIn[33], line 8\u001b[1;36m\u001b[0m\n\u001b[1;33m    ,  color = top_directors[1:11].index,,width=800, height=600)\u001b[0m\n\u001b[1;37m                                         ^\u001b[0m\n\u001b[1;31mSyntaxError\u001b[0m\u001b[1;31m:\u001b[0m invalid syntax\n"
     ]
    }
   ],
   "source": [
    "top_directors = data['director']. value_counts().head(11)\n",
    "colors = [\"#8c0404\",\"#f25ed0\",\"#000000\",\"#16A085\",\"#34495E\",\n",
    "           \"#21618C \",\"#512E5F\",\"#45B39D\",\"#AAB7B8 \",\"#20B2AA\",\n",
    "           \"#FF69B4\",\"#00CED1\",\"#FF7F50\",\"#7FFF00\",\"#DA70D6\"]\n",
    "\n",
    "px.bar( x = top_directors.values[1:11] , y = top_directors.index[1:11],\n",
    "       text_auto=True, labels = dict(x='Number of movies', y='Directors'), title='Number of Movies by Directors'\n",
    "      ,  color = top_directors[1:11].index,,width=800, height=600)\n"
   ]
  },
  {
   "cell_type": "markdown",
   "id": "68a9f550-e18f-4709-ada3-f8012f8794b8",
   "metadata": {},
   "source": [
    "# Content Added Over Time"
   ]
  },
  {
   "cell_type": "code",
   "execution_count": null,
   "id": "e9ebda75-184e-486d-87c3-9a6c4941771e",
   "metadata": {},
   "outputs": [],
   "source": [
    "data['Year_added']=data['date_added'].dt.year\n",
    "data['Month_added']=data['date_added'].dt.month\n",
    "\n",
    "plt.figure(figsize=(10,6))\n",
    "sns.countplot(x='Year_added', data=data)\n",
    "plt.title('Content Added Over Time')\n",
    "plt.xlabel('Year')\n",
    "plt.ylabel('Count')\n",
    "plt.show()"
   ]
  },
  {
   "cell_type": "markdown",
   "id": "577372bc-9afd-436d-935e-5342a1ccc065",
   "metadata": {},
   "source": [
    "# Word Cloud of Movie Titles"
   ]
  },
  {
   "cell_type": "code",
   "execution_count": null,
   "id": "083c6db1-edb1-42c8-bd31-87ced677e838",
   "metadata": {},
   "outputs": [],
   "source": [
    "\n",
    "movie_titles = data[data['type'] == 'Movie']['title']\n",
    "wordcloud = WordCloud(width=800, height=400, background_color='black').generate(' '.join(movie_titles))\n",
    "\n",
    "plt.figure(figsize=(10, 6))\n",
    "plt.imshow(wordcloud, interpolation='bilinear')\n",
    "plt.axis('off')\n",
    "plt.show()"
   ]
  },
  {
   "cell_type": "code",
   "execution_count": null,
   "id": "73a8f6a9-dc4c-4ff0-8bb1-b3a4c8579e08",
   "metadata": {},
   "outputs": [],
   "source": [
    "#Content distribution on Netflix.\n",
    "\n",
    "type_counts = data['type'].value_counts()\n",
    "plt.figure(figsize=(8,6))\n",
    "plt.pie( x= type_counts, labels=['Movies', 'TV Shows'],autopct='%1.1f%%', explode=[0,0.1])\n",
    "plt.title('Distribution of Content by Type')\n",
    "plt.show()"
   ]
  },
  {
   "cell_type": "markdown",
   "id": "3f0baf58-3470-45d7-b9db-5e986995c8d5",
   "metadata": {},
   "source": [
    "# Visual representation of rating frequency of movies and TV Shows on Netflix.\r"
   ]
  },
  {
   "cell_type": "code",
   "execution_count": null,
   "id": "23249163-ac75-4161-a138-4912a5aaaf0d",
   "metadata": {},
   "outputs": [],
   "source": [
    "rating_count = data['rating'].value_counts().reset_index()\n",
    "rating_count"
   ]
  },
  {
   "cell_type": "code",
   "execution_count": null,
   "id": "43b82667-7998-4af7-ba83-a87c03d56ada",
   "metadata": {},
   "outputs": [],
   "source": [
    "\n",
    "plt.figure(figsize=(10,6))\n",
    "plt.pie( rating_count['count'][:8],labels=rating_count['rating'][:8], autopct='%0.f%%')\n",
    "plt.title(\"Rating on Netflix\")\n",
    "plt.show()"
   ]
  },
  {
   "cell_type": "code",
   "execution_count": null,
   "id": "eb725390-dc1c-4284-b56e-31eece527295",
   "metadata": {},
   "outputs": [],
   "source": [
    "# Converting date_added column to datetime.\n",
    "\n",
    "data['date_added'] = pd.to_datetime(data['date_added'])\n",
    "data.describe()"
   ]
  },
  {
   "cell_type": "code",
   "execution_count": null,
   "id": "8340b248-fbaa-46d8-b185-fc40ddce17e1",
   "metadata": {},
   "outputs": [],
   "source": [
    "data['country'].value_counts()"
   ]
  },
  {
   "cell_type": "code",
   "execution_count": null,
   "id": "3a85d4e3-8f6b-46b5-9605-4af7cc075f14",
   "metadata": {},
   "outputs": [],
   "source": [
    "# Top 10 countries with most content on Netflix\n",
    "top_10_countries = data['country'].value_counts().reset_index()[:10]\n",
    "\n",
    "plt.figure(figsize=(10,6))\n",
    "plt.bar(top_10_countries['country'], top_10_countries['count'])\n",
    "plt.xticks(rotation=45)\n",
    "plt.title('Top 10 countries with most content on Netflix')\n",
    "plt.xlabel('country')\n",
    "plt.ylabel('content')\n",
    "plt.show()"
   ]
  },
  {
   "cell_type": "code",
   "execution_count": null,
   "id": "bd8f7d27-4bd9-4170-8402-85de38e77e58",
   "metadata": {},
   "outputs": [],
   "source": [
    "# Monthly releases of Movies and TV shows on Netflix\n",
    "\n",
    "data['month'] = data['date_added'].dt.month\n",
    "monthly_movies = data[data['type']=='Movie']['month'].value_counts().sort_index()\n",
    "monthly_TV_shows = data[data['type']=='TV Show']['month'].value_counts().sort_index()\n",
    "plt.figure(figsize=(10,6))\n",
    "plt.plot(monthly_movies.index, monthly_movies.values, label='Movies', marker='o')\n",
    "plt.plot(monthly_TV_shows.index, monthly_TV_shows.values, label='TV Show', marker='o')\n",
    "plt.xticks(range(1,13),['Jan','Feb','Mar','Apr','May', 'Jun', 'Jul', 'Aug','Sep', 'Oct', 'Nov', 'Dec'])\n",
    "plt.title('Monthly releases of Movies and TV shows on Netflix')\n",
    "plt.grid(True)\n",
    "plt.legend()\n",
    "plt.show()"
   ]
  },
  {
   "cell_type": "code",
   "execution_count": null,
   "id": "44dfcfa2-2670-446e-b235-fbda84677631",
   "metadata": {},
   "outputs": [],
   "source": [
    "# Yearly releases of Movies and TV Shows on Netflix\n",
    "\n",
    "data['year']=data['date_added'].dt.year\n",
    "yearly_movies= data[data['type']=='Movie']['year'].value_counts().sort_index()\n",
    "yearly_TV_Show= data[data['type']=='TV Show']['year'].value_counts().sort_index()\n",
    "plt.plot(yearly_movies.index, yearly_movies.values, label='Movies', marker='o')\n",
    "plt.plot(yearly_TV_Show.index, yearly_TV_Show.values, label='TV Shows', marker='o')\n",
    "plt.legend()\n",
    "plt.grid(True)\n",
    "plt.title(\"Yearly releases of Movies and TV Shows on Netflix\")\n",
    "plt.show()\n"
   ]
  },
  {
   "cell_type": "code",
   "execution_count": null,
   "id": "e432d73a-41d0-4ff2-89dc-556c8770976d",
   "metadata": {},
   "outputs": [],
   "source": [
    "# Top 10 popular movie genres\n",
    "\n",
    "top_movie_genres = data[data['type']=='Movie'].groupby('listed_in').size().sort_values(ascending=False)[:10]\n",
    "plt.figure(figsize=(10,8))\n",
    "sns.barplot(x=top_movie_genres.index, y=top_movie_genres.values)\n",
    "plt.title('Top 10 popular movie genres')\n",
    "plt.xticks(rotation=45, ha='right')\n",
    "plt.xlabel('Genres')\n",
    "plt.ylabel('Movies')\n",
    "plt.show()"
   ]
  },
  {
   "cell_type": "code",
   "execution_count": null,
   "id": "cd82e283-cb27-4c10-a141-bdb996472373",
   "metadata": {},
   "outputs": [],
   "source": [
    "# Top 10 TV Shows genres\n",
    "\n",
    "top_TV_Shows = data[data['type']=='TV Show'].groupby('listed_in').size().sort_values(ascending=False)[:10]\n",
    "plt.figure(figsize=(10,8))\n",
    "sns.barplot(x=top_TV_Shows.index, y=top_TV_Shows.values)\n",
    "plt.title('Top 10 popular TV Shows ')\n",
    "plt.xticks(rotation=45, ha='right')\n",
    "plt.xlabel('Genres')\n",
    "plt.ylabel('TV Shows')\n",
    "plt.show()"
   ]
  }
 ],
 "metadata": {
  "kernelspec": {
   "display_name": "Python 3 (ipykernel)",
   "language": "python",
   "name": "python3"
  },
  "language_info": {
   "codemirror_mode": {
    "name": "ipython",
    "version": 3
   },
   "file_extension": ".py",
   "mimetype": "text/x-python",
   "name": "python",
   "nbconvert_exporter": "python",
   "pygments_lexer": "ipython3",
   "version": "3.12.4"
  }
 },
 "nbformat": 4,
 "nbformat_minor": 5
}
